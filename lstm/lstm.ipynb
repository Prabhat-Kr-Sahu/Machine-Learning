{
 "cells": [
  {
   "cell_type": "code",
   "execution_count": 3,
   "metadata": {},
   "outputs": [
    {
     "name": "stdout",
     "output_type": "stream",
     "text": [
      "done\n"
     ]
    }
   ],
   "source": [
    "import pandas as pd, numpy as np , matplotlib.pyplot as plt\n",
    "from sklearn.preprocessing import MinMaxScaler #for min max normalisation \n",
    "from keras.src.layers import Dense, Dropout, LSTM\n",
    "import nselib as nse\n",
    "from  nselib import capital_market \n",
    "print(\"done\")"
   ]
  },
  {
   "cell_type": "markdown",
   "metadata": {},
   "source": [
    "importing the data"
   ]
  },
  {
   "cell_type": "code",
   "execution_count": 37,
   "metadata": {},
   "outputs": [],
   "source": [
    "# import time\n",
    "# import requests\n",
    "# from urllib3.exceptions import ProtocolError\n",
    "\n",
    "# retry_count = 3\n",
    "# for attempt in range(retry_count):\n",
    "#     try:\n",
    "#         data = capital_market.price_volume_data(\"SBIN\", from_date='04-05-2005', to_date='01-01-2024')\n",
    "        \n",
    "#         break  # Exit loop if the request is successful\n",
    "#     except (requests.exceptions.ConnectionError, ProtocolError) as e:\n",
    "#         print(f\"Attempt {attempt + 1} failed: {e}\")\n",
    "#         time.sleep(2)  # Wait before retrying\n",
    "# else:\n",
    "#     print(\"Failed to retrieve data after several attempts.\")\n",
    " \n"
   ]
  },
  {
   "cell_type": "code",
   "execution_count": 69,
   "metadata": {},
   "outputs": [
    {
     "name": "stdout",
     "output_type": "stream",
     "text": [
      "<class 'pandas.core.frame.DataFrame'>\n",
      "RangeIndex: 12709 entries, 0 to 12708\n",
      "Data columns (total 14 columns):\n",
      " #   Column               Non-Null Count  Dtype \n",
      "---  ------               --------------  ----- \n",
      " 0   Unnamed: 0           12709 non-null  int64 \n",
      " 1   Symbol               12709 non-null  object\n",
      " 2   Series               12709 non-null  object\n",
      " 3   Date                 12709 non-null  object\n",
      " 4   PrevClose            12709 non-null  object\n",
      " 5   OpenPrice            12709 non-null  object\n",
      " 6   HighPrice            12709 non-null  object\n",
      " 7   LowPrice             12709 non-null  object\n",
      " 8   LastPrice            12709 non-null  object\n",
      " 9   ClosePrice           12709 non-null  object\n",
      " 10  AveragePrice         12709 non-null  object\n",
      " 11  TotalTradedQuantity  12709 non-null  object\n",
      " 12  Turnover₹            12709 non-null  object\n",
      " 13  No.ofTrades          12709 non-null  object\n",
      "dtypes: int64(1), object(13)\n",
      "memory usage: 1.4+ MB\n"
     ]
    }
   ],
   "source": [
    "# data=pd.read_csv(\"data_base.csv\")\n",
    "# data.to_csv(\"data_base.csv\")\n",
    "data=pd.read_csv(\"data_base.csv\")\n",
    "data.info()   \n"
   ]
  },
  {
   "cell_type": "markdown",
   "metadata": {},
   "source": [
    "removing the irrelevent colunms"
   ]
  },
  {
   "cell_type": "code",
   "execution_count": 72,
   "metadata": {},
   "outputs": [
    {
     "name": "stdout",
     "output_type": "stream",
     "text": [
      "<class 'pandas.core.frame.DataFrame'>\n",
      "RangeIndex: 12709 entries, 0 to 12708\n",
      "Data columns (total 4 columns):\n",
      " #   Column     Non-Null Count  Dtype \n",
      "---  ------     --------------  ----- \n",
      " 0   Date       12709 non-null  object\n",
      " 1   HighPrice  12709 non-null  object\n",
      " 2   LowPrice   12709 non-null  object\n",
      " 3   LastPrice  12709 non-null  object\n",
      "dtypes: object(4)\n",
      "memory usage: 397.3+ KB\n"
     ]
    }
   ],
   "source": [
    "predictors=data[[\"Date\",\"HighPrice\",\"LowPrice\",\"LastPrice\"]]\n",
    "# predictors.to_csv(\"predictors.csv\", index=False)\n",
    "predictors.to_csv(\"predictors.csv\")\n",
    "predictors.info()"
   ]
  },
  {
   "cell_type": "code",
   "execution_count": 68,
   "metadata": {},
   "outputs": [
    {
     "name": "stderr",
     "output_type": "stream",
     "text": [
      "C:\\Users\\prabh\\AppData\\Local\\Temp\\ipykernel_12800\\2011883010.py:1: FutureWarning: Series.interpolate with object dtype is deprecated and will raise in a future version. Call obj.infer_objects(copy=False) before interpolating instead.\n",
      "  predictors['LastPrice'] = predictors['LastPrice'].interpolate(method='linear')\n",
      "C:\\Users\\prabh\\AppData\\Local\\Temp\\ipykernel_12800\\2011883010.py:2: FutureWarning: Series.interpolate with object dtype is deprecated and will raise in a future version. Call obj.infer_objects(copy=False) before interpolating instead.\n",
      "  predictors['LowPrice'] = predictors['LastPrice'].interpolate(method='linear')\n",
      "C:\\Users\\prabh\\AppData\\Local\\Temp\\ipykernel_12800\\2011883010.py:3: FutureWarning: Series.interpolate with object dtype is deprecated and will raise in a future version. Call obj.infer_objects(copy=False) before interpolating instead.\n",
      "  predictors['HighPrice'] = predictors['LastPrice'].interpolate(method='linear')\n"
     ]
    }
   ],
   "source": []
  }
 ],
 "metadata": {
  "kernelspec": {
   "display_name": "Python 3",
   "language": "python",
   "name": "python3"
  },
  "language_info": {
   "codemirror_mode": {
    "name": "ipython",
    "version": 3
   },
   "file_extension": ".py",
   "mimetype": "text/x-python",
   "name": "python",
   "nbconvert_exporter": "python",
   "pygments_lexer": "ipython3",
   "version": "3.10.8"
  }
 },
 "nbformat": 4,
 "nbformat_minor": 2
}
